{
 "cells": [
  {
   "cell_type": "code",
   "execution_count": 6,
   "metadata": {},
   "outputs": [],
   "source": [
    "import pandas as pd\n",
    "import numpy as np\n",
    "from cmath import *\n",
    "\n",
    "#from utils import *"
   ]
  },
  {
   "cell_type": "markdown",
   "metadata": {},
   "source": [
    "Модуль cmath – предоставляет функции для работы с комплексными числами.<br>\n",
    "Документация: https://docs.python.org/3.7/library/cmath.html"
   ]
  },
  {
   "cell_type": "code",
   "execution_count": 7,
   "metadata": {},
   "outputs": [
    {
     "name": "stdout",
     "output_type": "stream",
     "text": [
      "(-0.75+7j)\n",
      "1.6775319994440323\n",
      "(7.0400639201643616, 1.6775319994440323)\n",
      "(1.2421277463999345+5.2860210614055845j)\n"
     ]
    }
   ],
   "source": [
    "a = (1.25 - 2j)\n",
    "b = (5.3j)\n",
    "c = (2 - 1.7j)\n",
    "d = a.real + b.imag*1j - c\n",
    "print(d)\n",
    "\n",
    "#Возвращает фазовый угол φ для числа x. Результат лежит в интервале [-π, π].\n",
    "print(phase(d))\n",
    "\n",
    "#Возвращает представление x в полярных координатах, то есть возвращает пару (r, phi).\n",
    "print(polar(d))\n",
    "\n",
    "#Возвращает обычное комплексное представление x из представления в полярных координатах.\n",
    "print(rect(5.43, 1.34))"
   ]
  },
  {
   "cell_type": "code",
   "execution_count": 8,
   "metadata": {},
   "outputs": [
    {
     "name": "stdout",
     "output_type": "stream",
     "text": [
      "0     (-1.0768884185562795-0.9062578622303249j)\n",
      "1      (0.634107609495696+0.06536107505966694j)\n",
      "2    (-0.9219789791207111-0.45688070134105785j)\n",
      "dtype: complex128\n",
      "0    (-0.08550827278711626+0.3158382044577786j)\n",
      "1     (0.44160556198511924+0.8718940713153299j)\n",
      "2      (0.8789775417341754-0.4237043429520804j)\n",
      "dtype: complex128\n"
     ]
    }
   ],
   "source": [
    "# Количество генерируемых значений\n",
    "n = 3\n",
    "\n",
    "# Генерация нормально-распределенных комплексных значений. μ -> loc; σ -> scale\n",
    "x = pd.Series(np.random.normal(loc = 0, scale = 1, size = n) \n",
    "         + 1j*np.random.normal(loc = 0, scale = 1, size = n))\n",
    "\n",
    "y = pd.Series(np.random.normal(loc = 0, scale = 1, size = n) \n",
    "         + 1j*np.random.normal(loc = 0, scale = 1, size = n))\n",
    "\n",
    "print(x)\n",
    "print(y)"
   ]
  },
  {
   "cell_type": "code",
   "execution_count": 12,
   "metadata": {},
   "outputs": [],
   "source": [
    "#r(x,y)"
   ]
  },
  {
   "cell_type": "code",
   "execution_count": 10,
   "metadata": {},
   "outputs": [
    {
     "data": {
      "text/plain": [
       "(0.5192901105171321+1.190022778717403j)"
      ]
     },
     "execution_count": 10,
     "metadata": {},
     "output_type": "execute_result"
    }
   ],
   "source": [
    "r = (\n",
    "    ((y.real - y.real.mean())*(y.imag - y.imag.mean())).sum() + \n",
    "    ((x.real - x.real.mean())*(x.imag - x.imag.mean())).sum() + \n",
    "1j*(((x.real - x.real.mean())*(y.imag - y.imag.mean())).sum() + \n",
    "    ((y.real - y.real.mean())*(x.imag - x.imag.mean())).sum())\n",
    ") \n",
    "/ \n",
    "(\n",
    "    (((x.real - x.real.mean())**2).sum() + ((x.imag - x.imag.mean())**2).sum()) * \n",
    "    (((y.real - y.real.mean())**2).sum() + ((y.imag - y.imag.mean())**2).sum())\n",
    ")\n",
    "    \n",
    "\n",
    "r"
   ]
  }
 ],
 "metadata": {
  "kernelspec": {
   "display_name": "Python 3",
   "language": "python",
   "name": "python3"
  },
  "language_info": {
   "codemirror_mode": {
    "name": "ipython",
    "version": 3
   },
   "file_extension": ".py",
   "mimetype": "text/x-python",
   "name": "python",
   "nbconvert_exporter": "python",
   "pygments_lexer": "ipython3",
   "version": "3.6.6"
  }
 },
 "nbformat": 4,
 "nbformat_minor": 2
}
