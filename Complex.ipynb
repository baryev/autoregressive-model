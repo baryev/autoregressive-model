{
 "cells": [
  {
   "cell_type": "code",
   "execution_count": 1,
   "metadata": {},
   "outputs": [],
   "source": [
    "import pandas as pd\n",
    "import numpy as np\n",
    "from cmath import *\n",
    "\n",
    "from utils import *"
   ]
  },
  {
   "cell_type": "markdown",
   "metadata": {},
   "source": [
    "Модуль cmath – предоставляет функции для работы с комплексными числами.<br>\n",
    "Документация: https://docs.python.org/3.7/library/cmath.html"
   ]
  },
  {
   "cell_type": "code",
   "execution_count": 2,
   "metadata": {},
   "outputs": [
    {
     "name": "stdout",
     "output_type": "stream",
     "text": [
      "(-0.75+7j)\n",
      "1.6775319994440323\n",
      "(7.0400639201643616, 1.6775319994440323)\n",
      "(1.2421277463999345+5.2860210614055845j)\n"
     ]
    }
   ],
   "source": [
    "#Примеры работы с комплексными числами в Python и библиотекой cmath в частности.\n",
    "c1 = (1.25 - 2j)\n",
    "c2 = (5.3j)\n",
    "c3 = (2 - 1.7j)\n",
    "d = c1.real + c2.imag*1j - c3\n",
    "print(d)\n",
    "\n",
    "#Возвращает фазовый угол φ для числа x. Результат лежит в интервале [-π, π].\n",
    "print(phase(d))\n",
    "\n",
    "#Возвращает представление x в полярных координатах, то есть возвращает пару (r, phi).\n",
    "print(polar(d))\n",
    "\n",
    "#Возвращает обычное комплексное представление x из представления в полярных координатах.\n",
    "print(rect(5.43, 1.34))"
   ]
  },
  {
   "cell_type": "code",
   "execution_count": 3,
   "metadata": {},
   "outputs": [
    {
     "name": "stdout",
     "output_type": "stream",
     "text": [
      "0    (-1.7235596813818406-0.8898981120190428j)\n",
      "1    (0.13921191941154426-0.6265508331466556j)\n",
      "2    (-1.4237524641040094-1.3468846391609197j)\n",
      "3     (-0.8565498215415825-0.813406021393507j)\n",
      "4     (0.7119624622606656-0.7969158618690574j)\n",
      "dtype: complex128\n",
      "0      (0.7144454316665156-0.7081649187680888j)\n",
      "1     (1.0745803303045462+0.12918309122508845j)\n",
      "2    (-1.1346873017238872-0.04096473275515533j)\n",
      "3      (0.5921228660635665+1.2254672115092577j)\n",
      "4     (-0.9677498886083911+0.8123336827655123j)\n",
      "dtype: complex128\n"
     ]
    }
   ],
   "source": [
    "# Количество генерируемых значений\n",
    "n = 1000000\n",
    "\n",
    "# Генерация нормально-распределенных комплексных значений. μ -> loc; σ -> scale\n",
    "x = pd.Series(np.random.normal(loc = 0, scale = 1, size = n) \n",
    "         + 1j*np.random.normal(loc = 0, scale = 1, size = n))\n",
    "\n",
    "y = pd.Series(np.random.normal(loc = 0, scale = 1, size = n) \n",
    "         + 1j*np.random.normal(loc = 0, scale = 1, size = n))\n",
    "\n",
    "print(x.head())\n",
    "print(y.head())"
   ]
  },
  {
   "cell_type": "code",
   "execution_count": 4,
   "metadata": {},
   "outputs": [
    {
     "data": {
      "text/plain": [
       "(0.04365317371957368+0.9990467458653817j)"
      ]
     },
     "execution_count": 4,
     "metadata": {},
     "output_type": "execute_result"
    }
   ],
   "source": [
    "# Расчет комплексного коэффициента пропорциональности (4.2.11)\n",
    "# Эта и следующие функции реализованы в файле в utils.py\n",
    "b(x,y)"
   ]
  },
  {
   "cell_type": "code",
   "execution_count": 5,
   "metadata": {},
   "outputs": [
    {
     "data": {
      "text/plain": [
       "(-4.57711942247669e-10-2.358816421644694e-10j)"
      ]
     },
     "execution_count": 5,
     "metadata": {},
     "output_type": "execute_result"
    }
   ],
   "source": [
    "# Расчет выборочного значения коэффициента корреляции двух комплексных случайных величин (4.3.6)\n",
    "r(x,y)"
   ]
  }
 ],
 "metadata": {
  "kernelspec": {
   "display_name": "Python 3",
   "language": "python",
   "name": "python3"
  },
  "language_info": {
   "codemirror_mode": {
    "name": "ipython",
    "version": 3
   },
   "file_extension": ".py",
   "mimetype": "text/x-python",
   "name": "python",
   "nbconvert_exporter": "python",
   "pygments_lexer": "ipython3",
   "version": "3.7.1"
  }
 },
 "nbformat": 4,
 "nbformat_minor": 2
}
