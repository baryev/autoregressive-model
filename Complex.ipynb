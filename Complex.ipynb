{
 "cells": [
  {
   "cell_type": "code",
   "execution_count": 9,
   "metadata": {},
   "outputs": [],
   "source": [
    "from cmath import *"
   ]
  },
  {
   "cell_type": "markdown",
   "metadata": {},
   "source": [
    "Модуль cmath – предоставляет функции для работы с комплексными числами.<br>\n",
    "Документация: https://docs.python.org/3.7/library/cmath.html"
   ]
  },
  {
   "cell_type": "code",
   "execution_count": 48,
   "metadata": {},
   "outputs": [
    {
     "name": "stdout",
     "output_type": "stream",
     "text": [
      "(-0.75+7j)\n",
      "1.6775319994440323\n",
      "(7.0400639201643616, 1.6775319994440323)\n",
      "(1.2421277463999345+5.2860210614055845j)\n"
     ]
    }
   ],
   "source": [
    "a = (1.25 - 2j)\n",
    "b = (5.3j)\n",
    "c = (2 - 1.7j)\n",
    "x = a.real + b.imag*1j - c\n",
    "print(x)\n",
    "\n",
    "#Возвращает фазовый угол φ для числа x. Результат лежит в интервале [-π, π].\n",
    "print(cmath.phase(x))\n",
    "\n",
    "#Возвращает представление x в полярных координатах, то есть возвращает пару (r, phi).\n",
    "print(cmath.polar(x))\n",
    "\n",
    "#Возвращает обычное комплексное представление x из представления в полярных координатах.\n",
    "print(cmath.rect(5.43, 1.34))"
   ]
  },
  {
   "cell_type": "code",
   "execution_count": null,
   "metadata": {},
   "outputs": [],
   "source": []
  }
 ],
 "metadata": {
  "kernelspec": {
   "display_name": "Python 3",
   "language": "python",
   "name": "python3"
  },
  "language_info": {
   "codemirror_mode": {
    "name": "ipython",
    "version": 3
   },
   "file_extension": ".py",
   "mimetype": "text/x-python",
   "name": "python",
   "nbconvert_exporter": "python",
   "pygments_lexer": "ipython3",
   "version": "3.7.1"
  }
 },
 "nbformat": 4,
 "nbformat_minor": 2
}
