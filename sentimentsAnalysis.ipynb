{
 "cells": [
  {
   "cell_type": "code",
   "execution_count": 1,
   "metadata": {},
   "outputs": [
    {
     "name": "stdout",
     "output_type": "stream",
     "text": [
      "Populating the interactive namespace from numpy and matplotlib\n"
     ]
    }
   ],
   "source": [
    "import numpy as np\n",
    "import pandas as pd\n",
    "import datetime as dt\n",
    "import cmath\n",
    "import matplotlib.pyplot as plt\n",
    "\n",
    "from sklearn.linear_model import LinearRegression\n",
    "from sklearn.metrics import mean_squared_error\n",
    "\n",
    "%pylab inline\n",
    "pylab.rcParams['figure.figsize'] = (2, 1)"
   ]
  },
  {
   "cell_type": "code",
   "execution_count": 2,
   "metadata": {},
   "outputs": [],
   "source": [
    "countByDay = pd.read_csv('data\\out_countByDay.csv', index_col = 'day', header=0, parse_dates=[0]).sort_values(by = 'day')\n",
    "posByDay = pd.read_csv('data\\out_posByDay.csv', index_col = 'day', header=0, parse_dates=[0]).sort_values(by = 'day')\n",
    "neutrByDay = pd.read_csv('data\\out_neutrByDay.csv', index_col = 'day', header=0, parse_dates=[0]).sort_values(by = 'day')\n",
    "negByDay = pd.read_csv('data\\out_negByDay.csv', index_col = 'day', header=0, parse_dates=[0]).sort_values(by = 'day')"
   ]
  },
  {
   "cell_type": "code",
   "execution_count": 3,
   "metadata": {},
   "outputs": [
    {
     "data": {
      "text/html": [
       "<div>\n",
       "<style scoped>\n",
       "    .dataframe tbody tr th:only-of-type {\n",
       "        vertical-align: middle;\n",
       "    }\n",
       "\n",
       "    .dataframe tbody tr th {\n",
       "        vertical-align: top;\n",
       "    }\n",
       "\n",
       "    .dataframe thead th {\n",
       "        text-align: right;\n",
       "    }\n",
       "</style>\n",
       "<table border=\"1\" class=\"dataframe\">\n",
       "  <thead>\n",
       "    <tr style=\"text-align: right;\">\n",
       "      <th></th>\n",
       "      <th>price</th>\n",
       "      <th>volume</th>\n",
       "    </tr>\n",
       "    <tr>\n",
       "      <th>Date</th>\n",
       "      <th></th>\n",
       "      <th></th>\n",
       "    </tr>\n",
       "  </thead>\n",
       "  <tbody>\n",
       "    <tr>\n",
       "      <th>2015-02-11</th>\n",
       "      <td>6818.200195</td>\n",
       "      <td>623275800</td>\n",
       "    </tr>\n",
       "    <tr>\n",
       "      <th>2015-02-12</th>\n",
       "      <td>6828.100098</td>\n",
       "      <td>809863300</td>\n",
       "    </tr>\n",
       "    <tr>\n",
       "      <th>2015-02-13</th>\n",
       "      <td>6873.500000</td>\n",
       "      <td>734854200</td>\n",
       "    </tr>\n",
       "    <tr>\n",
       "      <th>2015-02-16</th>\n",
       "      <td>6857.100098</td>\n",
       "      <td>415979100</td>\n",
       "    </tr>\n",
       "    <tr>\n",
       "      <th>2015-02-17</th>\n",
       "      <td>6898.100098</td>\n",
       "      <td>612932700</td>\n",
       "    </tr>\n",
       "  </tbody>\n",
       "</table>\n",
       "</div>"
      ],
      "text/plain": [
       "                  price     volume\n",
       "Date                              \n",
       "2015-02-11  6818.200195  623275800\n",
       "2015-02-12  6828.100098  809863300\n",
       "2015-02-13  6873.500000  734854200\n",
       "2015-02-16  6857.100098  415979100\n",
       "2015-02-17  6898.100098  612932700"
      ]
     },
     "execution_count": 3,
     "metadata": {},
     "output_type": "execute_result"
    }
   ],
   "source": [
    "ftse = pd.read_csv('data\\FTSE.csv', index_col = 'Date', header=0, parse_dates=[0]).sort_values(by = 'Date')\n",
    "ftse = ftse[['Adj Close', 'Volume']]\n",
    "ftse.columns = ['price', 'volume']\n",
    "ftse.head()"
   ]
  },
  {
   "cell_type": "code",
   "execution_count": 4,
   "metadata": {},
   "outputs": [
    {
     "data": {
      "text/html": [
       "<div>\n",
       "<style scoped>\n",
       "    .dataframe tbody tr th:only-of-type {\n",
       "        vertical-align: middle;\n",
       "    }\n",
       "\n",
       "    .dataframe tbody tr th {\n",
       "        vertical-align: top;\n",
       "    }\n",
       "\n",
       "    .dataframe thead th {\n",
       "        text-align: right;\n",
       "    }\n",
       "</style>\n",
       "<table border=\"1\" class=\"dataframe\">\n",
       "  <thead>\n",
       "    <tr style=\"text-align: right;\">\n",
       "      <th></th>\n",
       "      <th>price</th>\n",
       "      <th>volume</th>\n",
       "      <th>priceDl</th>\n",
       "      <th>volumeDl</th>\n",
       "    </tr>\n",
       "    <tr>\n",
       "      <th>Date</th>\n",
       "      <th></th>\n",
       "      <th></th>\n",
       "      <th></th>\n",
       "      <th></th>\n",
       "    </tr>\n",
       "  </thead>\n",
       "  <tbody>\n",
       "    <tr>\n",
       "      <th>2015-02-11</th>\n",
       "      <td>6818.200195</td>\n",
       "      <td>623275800</td>\n",
       "      <td>1.000000</td>\n",
       "      <td>1.000000</td>\n",
       "    </tr>\n",
       "    <tr>\n",
       "      <th>2015-02-12</th>\n",
       "      <td>6828.100098</td>\n",
       "      <td>809863300</td>\n",
       "      <td>1.001452</td>\n",
       "      <td>1.299366</td>\n",
       "    </tr>\n",
       "    <tr>\n",
       "      <th>2015-02-13</th>\n",
       "      <td>6873.500000</td>\n",
       "      <td>734854200</td>\n",
       "      <td>1.008111</td>\n",
       "      <td>1.179019</td>\n",
       "    </tr>\n",
       "    <tr>\n",
       "      <th>2015-02-16</th>\n",
       "      <td>6857.100098</td>\n",
       "      <td>415979100</td>\n",
       "      <td>1.005705</td>\n",
       "      <td>0.667408</td>\n",
       "    </tr>\n",
       "    <tr>\n",
       "      <th>2015-02-17</th>\n",
       "      <td>6898.100098</td>\n",
       "      <td>612932700</td>\n",
       "      <td>1.011719</td>\n",
       "      <td>0.983405</td>\n",
       "    </tr>\n",
       "  </tbody>\n",
       "</table>\n",
       "</div>"
      ],
      "text/plain": [
       "                  price     volume   priceDl  volumeDl\n",
       "Date                                                  \n",
       "2015-02-11  6818.200195  623275800  1.000000  1.000000\n",
       "2015-02-12  6828.100098  809863300  1.001452  1.299366\n",
       "2015-02-13  6873.500000  734854200  1.008111  1.179019\n",
       "2015-02-16  6857.100098  415979100  1.005705  0.667408\n",
       "2015-02-17  6898.100098  612932700  1.011719  0.983405"
      ]
     },
     "execution_count": 4,
     "metadata": {},
     "output_type": "execute_result"
    }
   ],
   "source": [
    "# Перевод цены и объема в безразмерные (dimensionless) величины \n",
    "ftse['priceDl']  = ftse['price'].apply(lambda x: x / ftse['price'].iloc[0])\n",
    "ftse['volumeDl'] = ftse['volume'].apply(lambda x: x / ftse['volume'].iloc[0])\n",
    "ftse.head()"
   ]
  },
  {
   "cell_type": "code",
   "execution_count": null,
   "metadata": {},
   "outputs": [
    {
     "data": {
      "image/png": "[encoded data removed]",
      "text/plain": [
       "<Figure size 432x288 with 1 Axes>"
      ]
     },
     "metadata": {
      "needs_background": "light"
     },
     "output_type": "display_data"
    }
   ],
   "source": [
    "ftse[['priceDl', 'volumeDl']].plot();"
   ]
  },
  {
   "cell_type": "code",
   "execution_count": null,
   "metadata": {
    "scrolled": false
   },
   "outputs": [
    {
     "data": {
      "text/html": [
       "<div>\n",
       "<style scoped>\n",
       "    .dataframe tbody tr th:only-of-type {\n",
       "        vertical-align: middle;\n",
       "    }\n",
       "\n",
       "    .dataframe tbody tr th {\n",
       "        vertical-align: top;\n",
       "    }\n",
       "\n",
       "    .dataframe thead th {\n",
       "        text-align: right;\n",
       "    }\n",
       "</style>\n",
       "<table border=\"1\" class=\"dataframe\">\n",
       "  <thead>\n",
       "    <tr style=\"text-align: right;\">\n",
       "      <th></th>\n",
       "      <th>positive</th>\n",
       "      <th>neutral</th>\n",
       "      <th>negative</th>\n",
       "      <th>sentimentCoef</th>\n",
       "    </tr>\n",
       "    <tr>\n",
       "      <th>date</th>\n",
       "      <th></th>\n",
       "      <th></th>\n",
       "      <th></th>\n",
       "      <th></th>\n",
       "    </tr>\n",
       "  </thead>\n",
       "  <tbody>\n",
       "    <tr>\n",
       "      <th>2016-02-24</th>\n",
       "      <td>738</td>\n",
       "      <td>4624</td>\n",
       "      <td>2511</td>\n",
       "      <td>-0.225200</td>\n",
       "    </tr>\n",
       "    <tr>\n",
       "      <th>2016-02-25</th>\n",
       "      <td>1138</td>\n",
       "      <td>6670</td>\n",
       "      <td>3583</td>\n",
       "      <td>-0.214643</td>\n",
       "    </tr>\n",
       "    <tr>\n",
       "      <th>2016-02-26</th>\n",
       "      <td>952</td>\n",
       "      <td>5775</td>\n",
       "      <td>3287</td>\n",
       "      <td>-0.233174</td>\n",
       "    </tr>\n",
       "    <tr>\n",
       "      <th>2016-02-27</th>\n",
       "      <td>804</td>\n",
       "      <td>4578</td>\n",
       "      <td>2360</td>\n",
       "      <td>-0.200982</td>\n",
       "    </tr>\n",
       "    <tr>\n",
       "      <th>2016-02-28</th>\n",
       "      <td>1057</td>\n",
       "      <td>5172</td>\n",
       "      <td>2616</td>\n",
       "      <td>-0.176258</td>\n",
       "    </tr>\n",
       "  </tbody>\n",
       "</table>\n",
       "</div>"
      ],
      "text/plain": [
       "            positive  neutral  negative  sentimentCoef\n",
       "date                                                  \n",
       "2016-02-24       738     4624      2511      -0.225200\n",
       "2016-02-25      1138     6670      3583      -0.214643\n",
       "2016-02-26       952     5775      3287      -0.233174\n",
       "2016-02-27       804     4578      2360      -0.200982\n",
       "2016-02-28      1057     5172      2616      -0.176258"
      ]
     },
     "execution_count": 6,
     "metadata": {},
     "output_type": "execute_result"
    }
   ],
   "source": [
    "results = pd.merge(posByDay, neutrByDay, on='day')\n",
    "results = pd.merge(results, negByDay, on='day')\n",
    "results.index.names = [\"date\"]\n",
    "\n",
    "results.columns = ['positive', 'neutral', 'negative']\n",
    "results[\"sentimentCoef\"] = ((results[\"positive\"] - results[\"negative\"])/\n",
    "                            (results[\"positive\"] + results[\"neutral\"] + results[\"negative\"]))\n",
    "results.head()"
   ]
  },
  {
   "cell_type": "code",
   "execution_count": null,
   "metadata": {},
   "outputs": [
    {
     "data": {
      "image/png": "[encoded data removed]",
      "text/plain": [
       "<Figure size 432x288 with 1 Axes>"
      ]
     },
     "metadata": {
      "needs_background": "light"
     },
     "output_type": "display_data"
    }
   ],
   "source": [
    "results[['positive', 'neutral', 'negative']].plot(linewidth = 3, \n",
    "                                                    color=['g', 'gray', 'r']);"
   ]
  },
  {
   "cell_type": "code",
   "execution_count": null,
   "metadata": {},
   "outputs": [
    {
     "data": {
      "image/png": "[encoded data removed]",
      "text/plain": [
       "<Figure size 432x288 with 1 Axes>"
      ]
     },
     "metadata": {
      "needs_background": "light"
     },
     "output_type": "display_data"
    }
   ],
   "source": [
    "results[['positive','neutral','negative']].plot.bar(stacked=True);\n",
    "\n",
    "plt.tick_params(axis='both', which='both', labelsize=8)\n",
    "\n",
    "plt.xticks(plt.xticks()[0][3::10], \n",
    "           plt.xticks()[1][3::10])\n",
    "plt.xticks(rotation=0)\n",
    "plt.tight_layout()\n",
    "\n",
    "plt.savefig('images\\stacked_bar.png')\n",
    "plt.show()"
   ]
  },
  {
   "cell_type": "code",
   "execution_count": null,
   "metadata": {},
   "outputs": [
    {
     "data": {
      "text/html": [
       "<div>\n",
       "<style scoped>\n",
       "    .dataframe tbody tr th:only-of-type {\n",
       "        vertical-align: middle;\n",
       "    }\n",
       "\n",
       "    .dataframe tbody tr th {\n",
       "        vertical-align: top;\n",
       "    }\n",
       "\n",
       "    .dataframe thead th {\n",
       "        text-align: right;\n",
       "    }\n",
       "</style>\n",
       "<table border=\"1\" class=\"dataframe\">\n",
       "  <thead>\n",
       "    <tr style=\"text-align: right;\">\n",
       "      <th></th>\n",
       "      <th>price</th>\n",
       "      <th>volume</th>\n",
       "      <th>priceDl</th>\n",
       "      <th>volumeDl</th>\n",
       "      <th>positive</th>\n",
       "      <th>neutral</th>\n",
       "      <th>negative</th>\n",
       "      <th>sentimentCoef</th>\n",
       "    </tr>\n",
       "  </thead>\n",
       "  <tbody>\n",
       "    <tr>\n",
       "      <th>2016-02-24</th>\n",
       "      <td>5867.200195</td>\n",
       "      <td>834682500</td>\n",
       "      <td>0.860520</td>\n",
       "      <td>1.339186</td>\n",
       "      <td>738</td>\n",
       "      <td>4624</td>\n",
       "      <td>2511</td>\n",
       "      <td>-0.225200</td>\n",
       "    </tr>\n",
       "    <tr>\n",
       "      <th>2016-02-25</th>\n",
       "      <td>6012.799805</td>\n",
       "      <td>999956900</td>\n",
       "      <td>0.881875</td>\n",
       "      <td>1.604357</td>\n",
       "      <td>1138</td>\n",
       "      <td>6670</td>\n",
       "      <td>3583</td>\n",
       "      <td>-0.214643</td>\n",
       "    </tr>\n",
       "    <tr>\n",
       "      <th>2016-02-26</th>\n",
       "      <td>6096.000000</td>\n",
       "      <td>858937600</td>\n",
       "      <td>0.894078</td>\n",
       "      <td>1.378102</td>\n",
       "      <td>952</td>\n",
       "      <td>5775</td>\n",
       "      <td>3287</td>\n",
       "      <td>-0.233174</td>\n",
       "    </tr>\n",
       "    <tr>\n",
       "      <th>2016-02-29</th>\n",
       "      <td>6097.100098</td>\n",
       "      <td>941705500</td>\n",
       "      <td>0.894239</td>\n",
       "      <td>1.510897</td>\n",
       "      <td>1045</td>\n",
       "      <td>6051</td>\n",
       "      <td>3117</td>\n",
       "      <td>-0.202879</td>\n",
       "    </tr>\n",
       "    <tr>\n",
       "      <th>2016-03-01</th>\n",
       "      <td>6152.899902</td>\n",
       "      <td>933626200</td>\n",
       "      <td>0.902423</td>\n",
       "      <td>1.497934</td>\n",
       "      <td>878</td>\n",
       "      <td>4872</td>\n",
       "      <td>2539</td>\n",
       "      <td>-0.200386</td>\n",
       "    </tr>\n",
       "  </tbody>\n",
       "</table>\n",
       "</div>"
      ],
      "text/plain": [
       "                  price     volume   priceDl  volumeDl  positive  neutral  \\\n",
       "2016-02-24  5867.200195  834682500  0.860520  1.339186       738     4624   \n",
       "2016-02-25  6012.799805  999956900  0.881875  1.604357      1138     6670   \n",
       "2016-02-26  6096.000000  858937600  0.894078  1.378102       952     5775   \n",
       "2016-02-29  6097.100098  941705500  0.894239  1.510897      1045     6051   \n",
       "2016-03-01  6152.899902  933626200  0.902423  1.497934       878     4872   \n",
       "\n",
       "            negative  sentimentCoef  \n",
       "2016-02-24      2511      -0.225200  \n",
       "2016-02-25      3583      -0.214643  \n",
       "2016-02-26      3287      -0.233174  \n",
       "2016-02-29      3117      -0.202879  \n",
       "2016-03-01      2539      -0.200386  "
      ]
     },
     "execution_count": 9,
     "metadata": {},
     "output_type": "execute_result"
    }
   ],
   "source": [
    "# allRes = pd.merge(ftse, results[['positive','neutral','negative', 'sentimentCoef']], on = 'date')\n",
    "allRes = pd.merge(ftse, results, left_index=True, right_index=True)\n",
    "allRes.head()"
   ]
  },
  {
   "cell_type": "code",
   "execution_count": null,
   "metadata": {},
   "outputs": [
    {
     "data": {
      "text/html": [
       "<div>\n",
       "<style scoped>\n",
       "    .dataframe tbody tr th:only-of-type {\n",
       "        vertical-align: middle;\n",
       "    }\n",
       "\n",
       "    .dataframe tbody tr th {\n",
       "        vertical-align: top;\n",
       "    }\n",
       "\n",
       "    .dataframe thead th {\n",
       "        text-align: right;\n",
       "    }\n",
       "</style>\n",
       "<table border=\"1\" class=\"dataframe\">\n",
       "  <thead>\n",
       "    <tr style=\"text-align: right;\">\n",
       "      <th></th>\n",
       "      <th>price</th>\n",
       "      <th>volume</th>\n",
       "      <th>priceDl</th>\n",
       "      <th>volumeDl</th>\n",
       "      <th>positive</th>\n",
       "      <th>neutral</th>\n",
       "      <th>negative</th>\n",
       "      <th>sentimentCoef</th>\n",
       "      <th>priceDlC</th>\n",
       "      <th>volumeDlC</th>\n",
       "      <th>sentimentCoefC</th>\n",
       "      <th>complex</th>\n",
       "    </tr>\n",
       "  </thead>\n",
       "  <tbody>\n",
       "    <tr>\n",
       "      <th>2016-02-24</th>\n",
       "      <td>5867.200195</td>\n",
       "      <td>834682500</td>\n",
       "      <td>0.860520</td>\n",
       "      <td>1.339186</td>\n",
       "      <td>738</td>\n",
       "      <td>4624</td>\n",
       "      <td>2511</td>\n",
       "      <td>-0.225200</td>\n",
       "      <td>-0.044794</td>\n",
       "      <td>0.084173</td>\n",
       "      <td>-0.012789</td>\n",
       "      <td>(0.08417323354072792-0.012788972968866635j)</td>\n",
       "    </tr>\n",
       "    <tr>\n",
       "      <th>2016-02-25</th>\n",
       "      <td>6012.799805</td>\n",
       "      <td>999956900</td>\n",
       "      <td>0.881875</td>\n",
       "      <td>1.604357</td>\n",
       "      <td>1138</td>\n",
       "      <td>6670</td>\n",
       "      <td>3583</td>\n",
       "      <td>-0.214643</td>\n",
       "      <td>-0.023440</td>\n",
       "      <td>0.349344</td>\n",
       "      <td>-0.002232</td>\n",
       "      <td>(0.34934380489934647-0.0022320614828287844j)</td>\n",
       "    </tr>\n",
       "    <tr>\n",
       "      <th>2016-02-26</th>\n",
       "      <td>6096.000000</td>\n",
       "      <td>858937600</td>\n",
       "      <td>0.894078</td>\n",
       "      <td>1.378102</td>\n",
       "      <td>952</td>\n",
       "      <td>5775</td>\n",
       "      <td>3287</td>\n",
       "      <td>-0.233174</td>\n",
       "      <td>-0.011237</td>\n",
       "      <td>0.123089</td>\n",
       "      <td>-0.020762</td>\n",
       "      <td>(0.1230887505558278-0.020762479182484334j)</td>\n",
       "    </tr>\n",
       "    <tr>\n",
       "      <th>2016-02-29</th>\n",
       "      <td>6097.100098</td>\n",
       "      <td>941705500</td>\n",
       "      <td>0.894239</td>\n",
       "      <td>1.510897</td>\n",
       "      <td>1045</td>\n",
       "      <td>6051</td>\n",
       "      <td>3117</td>\n",
       "      <td>-0.202879</td>\n",
       "      <td>-0.011076</td>\n",
       "      <td>0.255884</td>\n",
       "      <td>0.009532</td>\n",
       "      <td>(0.2558837347345815+0.009532393807529793j)</td>\n",
       "    </tr>\n",
       "    <tr>\n",
       "      <th>2016-03-01</th>\n",
       "      <td>6152.899902</td>\n",
       "      <td>933626200</td>\n",
       "      <td>0.902423</td>\n",
       "      <td>1.497934</td>\n",
       "      <td>878</td>\n",
       "      <td>4872</td>\n",
       "      <td>2539</td>\n",
       "      <td>-0.200386</td>\n",
       "      <td>-0.002892</td>\n",
       "      <td>0.242921</td>\n",
       "      <td>0.012025</td>\n",
       "      <td>(0.2429210944395468+0.01202502403143818j)</td>\n",
       "    </tr>\n",
       "  </tbody>\n",
       "</table>\n",
       "</div>"
      ],
      "text/plain": [
       "                  price     volume   priceDl  volumeDl  positive  neutral  \\\n",
       "2016-02-24  5867.200195  834682500  0.860520  1.339186       738     4624   \n",
       "2016-02-25  6012.799805  999956900  0.881875  1.604357      1138     6670   \n",
       "2016-02-26  6096.000000  858937600  0.894078  1.378102       952     5775   \n",
       "2016-02-29  6097.100098  941705500  0.894239  1.510897      1045     6051   \n",
       "2016-03-01  6152.899902  933626200  0.902423  1.497934       878     4872   \n",
       "\n",
       "            negative  sentimentCoef  priceDlC  volumeDlC  sentimentCoefC  \\\n",
       "2016-02-24      2511      -0.225200 -0.044794   0.084173       -0.012789   \n",
       "2016-02-25      3583      -0.214643 -0.023440   0.349344       -0.002232   \n",
       "2016-02-26      3287      -0.233174 -0.011237   0.123089       -0.020762   \n",
       "2016-02-29      3117      -0.202879 -0.011076   0.255884        0.009532   \n",
       "2016-03-01      2539      -0.200386 -0.002892   0.242921        0.012025   \n",
       "\n",
       "                                                 complex  \n",
       "2016-02-24   (0.08417323354072792-0.012788972968866635j)  \n",
       "2016-02-25  (0.34934380489934647-0.0022320614828287844j)  \n",
       "2016-02-26    (0.1230887505558278-0.020762479182484334j)  \n",
       "2016-02-29    (0.2558837347345815+0.009532393807529793j)  \n",
       "2016-03-01     (0.2429210944395468+0.01202502403143818j)  "
      ]
     },
     "execution_count": 10,
     "metadata": {},
     "output_type": "execute_result"
    }
   ],
   "source": [
    "# Центрирование безразмерных величин цены и объема\n",
    "allRes['priceDlC'] = allRes['priceDl'] - allRes['priceDl'].mean()\n",
    "allRes['volumeDlC'] = allRes['volumeDl'] - allRes['volumeDl'].mean()\n",
    "allRes['sentimentCoefC'] = allRes['sentimentCoef'] - allRes['sentimentCoef'].mean()\n",
    "\n",
    "allRes['complex'] = allRes['volumeDlC'] + allRes['sentimentCoefC'] * 1j\n",
    "allRes.head(5)"
   ]
  },
  {
   "cell_type": "markdown",
   "metadata": {},
   "source": [
    "## Нахождение коэффициента парной корреляции "
   ]
  },
  {
   "cell_type": "code",
   "execution_count": null,
   "metadata": {},
   "outputs": [],
   "source": [
    "def rc(y,x):\n",
    "#     #Центрирование\n",
    "#     yr = y.real - y.real.mean()\n",
    "#     yi = y.imag - y.imag.mean()\n",
    "#     xr = x.real - x.real.mean()\n",
    "#     xi = x.imag - x.imag.mean()\n",
    "\n",
    "    yr = y.real\n",
    "    yi = y.imag\n",
    "    xr = x.real\n",
    "    xi = x.imag\n",
    "    \n",
    "    rc_xy = (\n",
    "        ((yr + 1j*yi)*(xr + 1j*xi)).sum()\n",
    "        / \n",
    "        sqrt(((yr + 1j*yi)**2).sum() * ((xr + 1j*xi)**2).sum())\n",
    "        )\n",
    "    return rc_xy;"
   ]
  },
  {
   "cell_type": "code",
   "execution_count": null,
   "metadata": {},
   "outputs": [
    {
     "name": "stdout",
     "output_type": "stream",
     "text": [
      "(-0.9701074223859091+0.10586052231081682j)\n",
      "(0.15811388300841897+0.474341649025257j)\n"
     ]
    }
   ],
   "source": [
    "y = pd.DataFrame({\"y\":[(1+3j),(2+2j),(3+3j)],\n",
    "                  \"x\":[(1+1j),(2+4j),(3+3j)]})\n",
    "print(rc(y['y'], y['x']))\n",
    "print(np.corrcoef(y['x'], y['y'])[0][1])"
   ]
  },
  {
   "cell_type": "code",
   "execution_count": null,
   "metadata": {},
   "outputs": [
    {
     "name": "stdout",
     "output_type": "stream",
     "text": [
      "(-1.0765386909793453+0.05627008447027136j)\n",
      "(0.9486832980505138+0.31622776601683794j)\n"
     ]
    }
   ],
   "source": [
    "y = pd.DataFrame({\"y\":[(1+0j),(2+2j)],\n",
    "                  \"x\":[(0+1j),(1+2j)]})\n",
    "print(rc(y['y'], y['x']))\n",
    "print(np.corrcoef(y['y'], y['x'])[0][1])"
   ]
  },
  {
   "cell_type": "code",
   "execution_count": null,
   "metadata": {},
   "outputs": [],
   "source": [
    "# allRes = allRes.sort_values(by = 'date')\n",
    "allRes.to_csv(\"data/out_allRes.csv\")\n",
    "#allRes"
   ]
  },
  {
   "cell_type": "code",
   "execution_count": null,
   "metadata": {},
   "outputs": [
    {
     "name": "stdout",
     "output_type": "stream",
     "text": [
      "rc volume-volume:     (1+0j)\n",
      "rc volume-price:      (-0.002721963440654711-1.501590088785749e-05j)\n",
      "rc price-volume*1000: (-0.0027219634406546863-1.5015900887858539e-05j)\n",
      "(0.018548078910976543+0j)\n",
      "0.018548078910976533\n",
      "(-0.16925067162185775-0.0009336831172452041j)\n",
      "(-0.165151433030158-0.0028913531808145137j)\n"
     ]
    }
   ],
   "source": [
    "print('rc volume-volume:     ' + str(rc(allRes['complex'],\n",
    "                                    allRes['complex'])))\n",
    "\n",
    "print('rc volume-price:      ' + str(rc(allRes['complex'],\n",
    "                                    allRes['priceDl'])))\n",
    "\n",
    "print('rc price-volume*1000: ' + str(rc(allRes['complex'],\n",
    "                                    allRes['priceDl']*1000)))\n",
    "\n",
    "#rc\n",
    "print(rc(allRes['sentimentCoefC'], allRes['priceDlC']))\n",
    "#Стандартная функция для нахождения корреляции\n",
    "print(np.corrcoef(allRes['sentimentCoefC'], allRes['priceDlC'])[0][1])\n",
    "\n",
    "#rc\n",
    "print(rc(allRes['priceDlC'],allRes['complex']))\n",
    "#Стандартная функция для нахождения корреляции\n",
    "print(np.corrcoef(allRes['priceDlC'],allRes['complex'])[0][1])"
   ]
  },
  {
   "cell_type": "code",
   "execution_count": null,
   "metadata": {},
   "outputs": [
    {
     "data": {
      "text/html": [
       "<div>\n",
       "<style scoped>\n",
       "    .dataframe tbody tr th:only-of-type {\n",
       "        vertical-align: middle;\n",
       "    }\n",
       "\n",
       "    .dataframe tbody tr th {\n",
       "        vertical-align: top;\n",
       "    }\n",
       "\n",
       "    .dataframe thead th {\n",
       "        text-align: right;\n",
       "    }\n",
       "</style>\n",
       "<table border=\"1\" class=\"dataframe\">\n",
       "  <thead>\n",
       "    <tr style=\"text-align: right;\">\n",
       "      <th></th>\n",
       "      <th>shift</th>\n",
       "      <th>rc</th>\n",
       "      <th>npcorr</th>\n",
       "    </tr>\n",
       "  </thead>\n",
       "  <tbody>\n",
       "    <tr>\n",
       "      <th>0</th>\n",
       "      <td>-14</td>\n",
       "      <td>(0.12706214562704407+0.010878113476022388j)</td>\n",
       "      <td>(-0.049522143290745786-0.024486033172962298j)</td>\n",
       "    </tr>\n",
       "    <tr>\n",
       "      <th>1</th>\n",
       "      <td>-13</td>\n",
       "      <td>(0.13388961006743544+0.015676474562386338j)</td>\n",
       "      <td>(-0.04556132022995264-0.026934397753462413j)</td>\n",
       "    </tr>\n",
       "    <tr>\n",
       "      <th>2</th>\n",
       "      <td>-12</td>\n",
       "      <td>(0.11663296121588679+0.02589605604794582j)</td>\n",
       "      <td>(-0.07149641946302293-0.038743368764772294j)</td>\n",
       "    </tr>\n",
       "    <tr>\n",
       "      <th>3</th>\n",
       "      <td>-11</td>\n",
       "      <td>(-0.1720150171926959+0.01572215549122958j)</td>\n",
       "      <td>(-0.3424818432765644-0.03151570408636007j)</td>\n",
       "    </tr>\n",
       "    <tr>\n",
       "      <th>4</th>\n",
       "      <td>-10</td>\n",
       "      <td>(0.10400613106185112+0.03444319303024696j)</td>\n",
       "      <td>(-0.0354089359311147-0.04009723473682393j)</td>\n",
       "    </tr>\n",
       "  </tbody>\n",
       "</table>\n",
       "</div>"
      ],
      "text/plain": [
       "  shift                                           rc  \\\n",
       "0   -14  (0.12706214562704407+0.010878113476022388j)   \n",
       "1   -13  (0.13388961006743544+0.015676474562386338j)   \n",
       "2   -12   (0.11663296121588679+0.02589605604794582j)   \n",
       "3   -11   (-0.1720150171926959+0.01572215549122958j)   \n",
       "4   -10   (0.10400613106185112+0.03444319303024696j)   \n",
       "\n",
       "                                          npcorr  \n",
       "0  (-0.049522143290745786-0.024486033172962298j)  \n",
       "1   (-0.04556132022995264-0.026934397753462413j)  \n",
       "2   (-0.07149641946302293-0.038743368764772294j)  \n",
       "3     (-0.3424818432765644-0.03151570408636007j)  \n",
       "4     (-0.0354089359311147-0.04009723473682393j)  "
      ]
     },
     "execution_count": 16,
     "metadata": {},
     "output_type": "execute_result"
    }
   ],
   "source": [
    "startShift = -14\n",
    "endShift = 14\n",
    "\n",
    "#correlation coef dataframe\n",
    "rcdf = pd.DataFrame(columns=('shift', 'rc'))\n",
    "\n",
    "for i in range(startShift, endShift+1):\n",
    "    if (i < 0):\n",
    "        row = pd.DataFrame({\"shift\":[i], \n",
    "                            \"rc\": [rc(allRes['priceDlC'].iloc[:i],\n",
    "                                  allRes['complex'].shift(i).iloc[:i])],\n",
    "                            \"npcorr\":np.corrcoef(allRes['priceDlC'].iloc[:i], \n",
    "                                                 allRes['complex'].shift(i).iloc[:i])[0][1]})\n",
    "    elif (i == 0):\n",
    "        row = pd.DataFrame({\"shift\":[i], \n",
    "                            \"rc\": [rc(allRes['priceDlC'],\n",
    "                                  allRes['complex'])],\n",
    "                            \"npcorr\":np.corrcoef(allRes['priceDlC'], \n",
    "                                                 allRes['complex'])[0][1]})\n",
    "    else:    \n",
    "        row = pd.DataFrame({\"shift\":[i], \n",
    "                            \"rc\": [rc(allRes['priceDlC'].iloc[i:],\n",
    "                                  allRes['complex'].shift(i).iloc[i:])],\n",
    "                            \"npcorr\":np.corrcoef(allRes['priceDlC'].iloc[i:], \n",
    "                                                 allRes['complex'].shift(i).iloc[i:])[0][1]})\n",
    "\n",
    "    rcdf = rcdf.append(row, ignore_index=True, sort=False)\n",
    "    \n",
    "rcdf.head()"
   ]
  },
  {
   "cell_type": "code",
   "execution_count": null,
   "metadata": {},
   "outputs": [],
   "source": [
    "rcdf['complex correlation'] = rcdf['rc'].apply(lambda x: x.real)\n",
    "rcdf['standard correlation'] = rcdf['npcorr'].apply(lambda x: x.real)\n",
    "rcdf[['shift','complex correlation', 'standard correlation']].plot(x = 'shift')\n",
    "plt.tight_layout()\n",
    "plt.savefig('images\\complex and standard correlations.png')\n",
    "plt.show()"
   ]
  },
  {
   "cell_type": "code",
   "execution_count": null,
   "metadata": {},
   "outputs": [],
   "source": [
    "def linregb(y, x):\n",
    "    yr = y.real\n",
    "    yi = y.imag\n",
    "    xr = x.real\n",
    "    xi = x.imag\n",
    "\n",
    "    b = (\n",
    "        ((yr + 1j*yi)*(xr + 1j*xi)).sum()\n",
    "        / \n",
    "        ((xr + 1j*xi)**2).sum()\n",
    "    )\n",
    "\n",
    "    return b"
   ]
  },
  {
   "cell_type": "code",
   "execution_count": null,
   "metadata": {},
   "outputs": [],
   "source": [
    "train = allRes[['priceDlC','volumeDlC','sentimentCoefC','complex']].iloc[0:14]\n",
    "test  = allRes[['priceDlC','volumeDlC','sentimentCoefC','complex']].iloc[15:18]"
   ]
  },
  {
   "cell_type": "code",
   "execution_count": null,
   "metadata": {},
   "outputs": [],
   "source": [
    "#b0 + ib1, где y = 'priceDl', x = 'complex'\n",
    "b = linregb(train['priceDlC'], train['complex'])\n",
    "print('b = ', b)\n",
    "\n",
    "test['lrPriceDlC'] = test['complex'] * b\n",
    "test['lrPriceDlC_real'] = test['lrPriceDlC'].apply(lambda x: x.real)\n",
    "test.head(5)"
   ]
  },
  {
   "cell_type": "code",
   "execution_count": null,
   "metadata": {},
   "outputs": [],
   "source": [
    "lm = LinearRegression()\n",
    "lm.fit(train[['volumeDlC', 'sentimentCoefC']], train['priceDlC'])\n",
    "test['sklearnLrPriceDlC'] = lm.predict(test[['volumeDlC', 'sentimentCoefC']])"
   ]
  },
  {
   "cell_type": "code",
   "execution_count": null,
   "metadata": {},
   "outputs": [],
   "source": [
    "complexLrRMSE = sqrt(mean_squared_error(test['priceDlC'], test['lrPriceDlC_real']))\n",
    "sklearnRMSE = sqrt(mean_squared_error(test['priceDlC'], test['sklearnLrPriceDlC']))\n",
    "print(complexLrRMSE)\n",
    "print(sklearnRMSE)"
   ]
  },
  {
   "cell_type": "code",
   "execution_count": null,
   "metadata": {},
   "outputs": [],
   "source": [
    "RMSE = pd.DataFrame(columns=('date','complex linear regression RMSE','standard linear regression RMSE'))\n",
    "n = 7\n",
    "for i in range(0, 36-n):\n",
    "    train = allRes[['priceDlC','volumeDlC','sentimentCoefC','complex']].iloc[i:i+n]\n",
    "    test  = allRes[['priceDlC','volumeDlC','sentimentCoefC','complex']].iloc[i+n:i+n+1]\n",
    "\n",
    "    b = linregb(train['priceDlC'], train['complex'])\n",
    "    test['lrPriceDlC'] = test['complex'] * b\n",
    "    test['lrPriceDlC_real'] = test['lrPriceDlC'].apply(lambda x: x.real)\n",
    "\n",
    "    lm = LinearRegression()\n",
    "    lm.fit(train[['volumeDlC', 'sentimentCoefC']], train['priceDlC'])\n",
    "    test['sklearnLrPriceDlC'] = lm.predict(test[['volumeDlC', 'sentimentCoefC']])\n",
    "\n",
    "    row = pd.DataFrame({'complex linear regression RMSE': [sqrt(mean_squared_error(test['priceDlC'], test['lrPriceDlC_real']))],\n",
    "                        'standard linear regression RMSE': [sqrt(mean_squared_error(test['priceDlC'], test['sklearnLrPriceDlC']))],\n",
    "                        'date': [allRes.index[i+7]]})\n",
    "\n",
    "    RMSE = RMSE.append(row, ignore_index=True, sort=False)  \n",
    "\n",
    "    print(RMSE['complex linear regression RMSE'].mean(), RMSE['standard linear regression RMSE'].mean())\n",
    "    \n",
    "RMSE.plot(x='date', title = 'train size = 7')\n",
    "plt.tight_layout()\n",
    "plt.savefig('images\\complex and standard linear regression RMSE.png')\n",
    "plt.show()"
   ]
  },
  {
   "cell_type": "code",
   "execution_count": null,
   "metadata": {
    "scrolled": false
   },
   "outputs": [],
   "source": [
    "RMSE_all = pd.DataFrame(columns=('train size','complex linear regression RMSE mean','standard linear regression RMSE mean'))\n",
    "\n",
    "for j in range(5, 16):\n",
    "    RMSE = pd.DataFrame(columns=('date','complex linear regression RMSE','standard linear regression RMSE'))\n",
    "    n = j\n",
    "    for i in range(0, 35-n):\n",
    "        train = allRes[['priceDlC','volumeDlC','sentimentCoefC','complex']].iloc[i:i+n]\n",
    "        test  = allRes[['priceDlC','volumeDlC','sentimentCoefC','complex']].iloc[i+n:i+n+1]\n",
    "\n",
    "        b = linregb(train['priceDlC'], train['complex'])\n",
    "        test['lrPriceDlC'] = test['complex'] * b\n",
    "        test['lrPriceDlC_real'] = test['lrPriceDlC'].apply(lambda x: x.real)\n",
    "\n",
    "        lm = LinearRegression()\n",
    "        lm.fit(train[['volumeDlC', 'sentimentCoefC']], train['priceDlC'])\n",
    "        test['sklearnLrPriceDlC'] = lm.predict(test[['volumeDlC', 'sentimentCoefC']])\n",
    "\n",
    "        row = pd.DataFrame({'complex linear regression RMSE': [sqrt(mean_squared_error(test['priceDlC'], test['lrPriceDlC_real']))],\n",
    "                            'standard linear regression RMSE': [sqrt(mean_squared_error(test['priceDlC'], test['sklearnLrPriceDlC']))],\n",
    "                            'date': [allRes.index[i+7]]})\n",
    "\n",
    "        RMSE = RMSE.append(row, ignore_index=True, sort=False)  \n",
    "\n",
    "        #print(RMSE['complex linear regression RMSE'].mean(), RMSE['standard linear regression RMSE'].mean())\n",
    "    \n",
    "    rowj = pd.DataFrame({'complex linear regression RMSE mean': RMSE['complex linear regression RMSE'].mean(),\n",
    "                         'standard linear regression RMSE mean': RMSE['standard linear regression RMSE'].mean(),\n",
    "                         'train size': [j]})\n",
    "    #RMSE.plot(x='date')\n",
    "    #plt.tight_layout()\n",
    "    #plt.savefig('images\\complex and standard linear regression RMSE.png')\n",
    "    #plt.show()\n",
    "    \n",
    "    RMSE_all = RMSE_all.append(rowj, ignore_index=True, sort=False)  \n",
    "\n",
    "RMSE_all.head()"
   ]
  },
  {
   "cell_type": "code",
   "execution_count": null,
   "metadata": {},
   "outputs": [],
   "source": [
    "RMSE_all[['train size','complex linear regression RMSE mean',\n",
    "          'standard linear regression RMSE mean']].plot(x='train size')\n",
    "plt.tight_layout()\n",
    "plt.savefig('images\\complex and standard linear regression RMSE mean.png')\n",
    "plt.show()"
   ]
  },
  {
   "cell_type": "code",
   "execution_count": null,
   "metadata": {},
   "outputs": [],
   "source": [
    "startShift = -14\n",
    "endShift = 14\n",
    "\n",
    "for i in range(startShift, endShift+1):\n",
    "    lrdf = pd.DataFrame(columns=('priceDlC','lrPriceDlС','complex','priceDlC_real','lrPriceDlC_real'))\n",
    "    if (i < 0):\n",
    "        b = linregb(allRes['priceDlC'].iloc[:i],\n",
    "                    allRes['complex'].shift(i).iloc[:i])\n",
    "        lrdf['priceDlC'] = allRes['priceDlC'].iloc[:i]\n",
    "        lrdf['complex'] = allRes['complex'].shift(i).iloc[:i]\n",
    "    \n",
    "    elif (i == 0):\n",
    "        b = linregb(allRes['priceDlC'],\n",
    "                    allRes['complex'])\n",
    "        lrdf[['priceDlC','complex']] = allRes[['priceDlC','complex']]\n",
    "    \n",
    "    else:    \n",
    "        b = linregb(allRes['priceDlC'].iloc[i:],\n",
    "                    allRes['complex'].shift(i).iloc[i:])\n",
    "        lrdf['priceDlC'] = allRes['priceDlC'].iloc[i:]\n",
    "        lrdf['complex'] = allRes['complex'].shift(i).iloc[i:]\n",
    "    \n",
    "    print('shift =', i, '  b =', b)\n",
    "\n",
    "    lrdf = lrdf.copy(deep = True)\n",
    "    lrdf['lrPriceDlС'] = lrdf['complex'] * b    \n",
    "\n",
    "    lrdf = lrdf.append(row, ignore_index=True, sort=False)\n",
    "    \n",
    "    lrdf['priceDlC_real'] = lrdf['priceDlC'].apply(lambda x: x.real)\n",
    "    lrdf['lrPriceDlC_real'] = lrdf['lrPriceDlС'].apply(lambda x: x.real)\n",
    "    #lrdf['priceDL_imag'] = lrdf['priceDl'].apply(lambda x: x.imag)\n",
    "    #lrdf['lrPriceDl_imag'] = lrdf['lrPriceDl'].apply(lambda x: x.imag)\n",
    "    #lrdf[['date', 'priceDl_real', 'lrPriceDl_real', 'priceDL_imag', 'lrPriceDl_imag']].plot(x = 'date')\n",
    "    #lrdf[['priceDlC', 'lrPriceDlC_real']].plot(title = 'shift = ' + str(i))"
   ]
  },
  {
   "cell_type": "markdown",
   "metadata": {},
   "source": [
    "## Нормирование результатов"
   ]
  },
  {
   "cell_type": "code",
   "execution_count": null,
   "metadata": {},
   "outputs": [],
   "source": [
    "allRes[\"sentimentCoefNorm\"] = ((allRes[\"sentimentCoef\"] - allRes[\"sentimentCoef\"].min()) / \n",
    "                        (allRes[\"sentimentCoef\"].max() - allRes[\"sentimentCoef\"].min()))\n",
    "allRes[\"priceNorm\"]  = ((allRes[\"price\"] - allRes[\"price\"].min()) / \n",
    "                        (allRes[\"price\"].max() - allRes[\"price\"].min()))\n",
    "allRes[\"volumeNorm\"] = ((allRes[\"volume\"] - allRes[\"volume\"].min()) / \n",
    "                        (allRes[\"volume\"].max() - allRes[\"volume\"].min()))"
   ]
  },
  {
   "cell_type": "code",
   "execution_count": null,
   "metadata": {},
   "outputs": [],
   "source": [
    "#Стандартная функция для нахождения корреляции\n",
    "print(np.corrcoef(allRes['volumeNorm'], allRes['priceNorm'])[0][1])\n",
    "\n",
    "print('rc volumeNorm-priceNorm: ' + str(rc(allRes['volumeNorm'],\n",
    "                                            allRes['priceNorm'])))\n",
    "# allRes[['date', \n",
    "#         'sentimentCoefNorm', \n",
    "#         'priceNorm', \n",
    "#         'volumeNorm']].plot(x='date',\n",
    "#                             linewidth = 2, \n",
    "#                             color = ['r', 'steelblue', 'slateblue'])"
   ]
  }
 ],
 "metadata": {
  "kernelspec": {
   "display_name": "Python 3",
   "language": "python",
   "name": "python3"
  },
  "language_info": {
   "codemirror_mode": {
    "name": "ipython",
    "version": 3
   },
   "file_extension": ".py",
   "mimetype": "text/x-python",
   "name": "python",
   "nbconvert_exporter": "python",
   "pygments_lexer": "ipython3",
   "version": "3.6.6"
  }
 },
 "nbformat": 4,
 "nbformat_minor": 2
}
