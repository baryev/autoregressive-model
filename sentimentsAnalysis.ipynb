{
 "cells": [
  {
   "cell_type": "code",
   "execution_count": 1,
   "metadata": {},
   "outputs": [
    {
     "name": "stdout",
     "output_type": "stream",
     "text": [
      "Populating the interactive namespace from numpy and matplotlib\n"
     ]
    }
   ],
   "source": [
    "import numpy as np\n",
    "import pandas as pd\n",
    "import datetime as dt\n",
    "import cmath\n",
    "import matplotlib.pyplot as plt\n",
    "\n",
    "%pylab inline\n",
    "pylab.rcParams['figure.figsize'] = (10, 7);"
   ]
  },
  {
   "cell_type": "code",
   "execution_count": 2,
   "metadata": {},
   "outputs": [],
   "source": [
    "countByDay = pd.read_csv('data\\out_countByDay.csv', header=0, parse_dates=[0]).sort_values(by = 'day')\n",
    "posByDay = pd.read_csv('data\\out_posByDay.csv', header=0, parse_dates=[0]).sort_values(by = 'day')\n",
    "neutrByDay = pd.read_csv('data\\out_neutrByDay.csv', header=0, parse_dates=[0]).sort_values(by = 'day')\n",
    "negByDay = pd.read_csv('data\\out_negByDay.csv', header=0, parse_dates=[0]).sort_values(by = 'day')"
   ]
  },
  {
   "cell_type": "code",
   "execution_count": 3,
   "metadata": {},
   "outputs": [
    {
     "data": {
      "text/html": [
       "<div>\n",
       "<style scoped>\n",
       "    .dataframe tbody tr th:only-of-type {\n",
       "        vertical-align: middle;\n",
       "    }\n",
       "\n",
       "    .dataframe tbody tr th {\n",
       "        vertical-align: top;\n",
       "    }\n",
       "\n",
       "    .dataframe thead th {\n",
       "        text-align: right;\n",
       "    }\n",
       "</style>\n",
       "<table border=\"1\" class=\"dataframe\">\n",
       "  <thead>\n",
       "    <tr style=\"text-align: right;\">\n",
       "      <th></th>\n",
       "      <th>day</th>\n",
       "      <th>price</th>\n",
       "      <th>volume</th>\n",
       "    </tr>\n",
       "  </thead>\n",
       "  <tbody>\n",
       "    <tr>\n",
       "      <th>0</th>\n",
       "      <td>2015-02-11</td>\n",
       "      <td>6818.200195</td>\n",
       "      <td>623275800</td>\n",
       "    </tr>\n",
       "    <tr>\n",
       "      <th>1</th>\n",
       "      <td>2015-02-12</td>\n",
       "      <td>6828.100098</td>\n",
       "      <td>809863300</td>\n",
       "    </tr>\n",
       "    <tr>\n",
       "      <th>2</th>\n",
       "      <td>2015-02-13</td>\n",
       "      <td>6873.500000</td>\n",
       "      <td>734854200</td>\n",
       "    </tr>\n",
       "    <tr>\n",
       "      <th>3</th>\n",
       "      <td>2015-02-16</td>\n",
       "      <td>6857.100098</td>\n",
       "      <td>415979100</td>\n",
       "    </tr>\n",
       "    <tr>\n",
       "      <th>4</th>\n",
       "      <td>2015-02-17</td>\n",
       "      <td>6898.100098</td>\n",
       "      <td>612932700</td>\n",
       "    </tr>\n",
       "  </tbody>\n",
       "</table>\n",
       "</div>"
      ],
      "text/plain": [
       "         day        price     volume\n",
       "0 2015-02-11  6818.200195  623275800\n",
       "1 2015-02-12  6828.100098  809863300\n",
       "2 2015-02-13  6873.500000  734854200\n",
       "3 2015-02-16  6857.100098  415979100\n",
       "4 2015-02-17  6898.100098  612932700"
      ]
     },
     "execution_count": 3,
     "metadata": {},
     "output_type": "execute_result"
    }
   ],
   "source": [
    "#create dimensionless values\n",
    "ftse = pd.read_csv('data\\FTSE.csv', header=0, parse_dates=[0]).sort_values(by = 'Date')\n",
    "ftse = ftse[['Date', 'Adj Close', 'Volume']]\n",
    "ftse.columns = ['day', 'price', 'volume']\n",
    "ftse.head()"
   ]
  },
  {
   "cell_type": "code",
   "execution_count": 4,
   "metadata": {},
   "outputs": [
    {
     "data": {
      "text/html": [
       "<div>\n",
       "<style scoped>\n",
       "    .dataframe tbody tr th:only-of-type {\n",
       "        vertical-align: middle;\n",
       "    }\n",
       "\n",
       "    .dataframe tbody tr th {\n",
       "        vertical-align: top;\n",
       "    }\n",
       "\n",
       "    .dataframe thead th {\n",
       "        text-align: right;\n",
       "    }\n",
       "</style>\n",
       "<table border=\"1\" class=\"dataframe\">\n",
       "  <thead>\n",
       "    <tr style=\"text-align: right;\">\n",
       "      <th></th>\n",
       "      <th>day</th>\n",
       "      <th>price</th>\n",
       "      <th>volume</th>\n",
       "      <th>priceDl</th>\n",
       "      <th>volumeDl</th>\n",
       "      <th>complex</th>\n",
       "    </tr>\n",
       "  </thead>\n",
       "  <tbody>\n",
       "    <tr>\n",
       "      <th>0</th>\n",
       "      <td>2015-02-11</td>\n",
       "      <td>6818.200195</td>\n",
       "      <td>623275800</td>\n",
       "      <td>1.000000</td>\n",
       "      <td>1.000000</td>\n",
       "      <td>(1+1j)</td>\n",
       "    </tr>\n",
       "    <tr>\n",
       "      <th>1</th>\n",
       "      <td>2015-02-12</td>\n",
       "      <td>6828.100098</td>\n",
       "      <td>809863300</td>\n",
       "      <td>1.001452</td>\n",
       "      <td>1.299366</td>\n",
       "      <td>(1.001451981859855+1.2993658666035164j)</td>\n",
       "    </tr>\n",
       "    <tr>\n",
       "      <th>2</th>\n",
       "      <td>2015-02-13</td>\n",
       "      <td>6873.500000</td>\n",
       "      <td>734854200</td>\n",
       "      <td>1.008111</td>\n",
       "      <td>1.179019</td>\n",
       "      <td>(1.008110616206393+1.1790193041347026j)</td>\n",
       "    </tr>\n",
       "    <tr>\n",
       "      <th>3</th>\n",
       "      <td>2015-02-16</td>\n",
       "      <td>6857.100098</td>\n",
       "      <td>415979100</td>\n",
       "      <td>1.005705</td>\n",
       "      <td>0.667408</td>\n",
       "      <td>(1.0057053037293517+0.6674077511111454j)</td>\n",
       "    </tr>\n",
       "    <tr>\n",
       "      <th>4</th>\n",
       "      <td>2015-02-17</td>\n",
       "      <td>6898.100098</td>\n",
       "      <td>612932700</td>\n",
       "      <td>1.011719</td>\n",
       "      <td>0.983405</td>\n",
       "      <td>(1.0117186208551918+0.9834052597582001j)</td>\n",
       "    </tr>\n",
       "  </tbody>\n",
       "</table>\n",
       "</div>"
      ],
      "text/plain": [
       "         day        price     volume   priceDl  volumeDl  \\\n",
       "0 2015-02-11  6818.200195  623275800  1.000000  1.000000   \n",
       "1 2015-02-12  6828.100098  809863300  1.001452  1.299366   \n",
       "2 2015-02-13  6873.500000  734854200  1.008111  1.179019   \n",
       "3 2015-02-16  6857.100098  415979100  1.005705  0.667408   \n",
       "4 2015-02-17  6898.100098  612932700  1.011719  0.983405   \n",
       "\n",
       "                                    complex  \n",
       "0                                    (1+1j)  \n",
       "1   (1.001451981859855+1.2993658666035164j)  \n",
       "2   (1.008110616206393+1.1790193041347026j)  \n",
       "3  (1.0057053037293517+0.6674077511111454j)  \n",
       "4  (1.0117186208551918+0.9834052597582001j)  "
      ]
     },
     "execution_count": 4,
     "metadata": {},
     "output_type": "execute_result"
    }
   ],
   "source": [
    "ftse['priceDl'] = ftse['price'].apply(lambda x: x / ftse['price'][0])\n",
    "ftse['volumeDl'] = ftse['volume'].apply(lambda x: x / ftse['volume'][0])\n",
    "ftse['complex'] = ftse['priceDl'] + ftse['volumeDl'] * 1j\n",
    "ftse.head()"
   ]
  },
  {
   "cell_type": "code",
   "execution_count": 5,
   "metadata": {
    "scrolled": false
   },
   "outputs": [
    {
     "data": {
      "text/html": [
       "<div>\n",
       "<style scoped>\n",
       "    .dataframe tbody tr th:only-of-type {\n",
       "        vertical-align: middle;\n",
       "    }\n",
       "\n",
       "    .dataframe tbody tr th {\n",
       "        vertical-align: top;\n",
       "    }\n",
       "\n",
       "    .dataframe thead th {\n",
       "        text-align: right;\n",
       "    }\n",
       "</style>\n",
       "<table border=\"1\" class=\"dataframe\">\n",
       "  <thead>\n",
       "    <tr style=\"text-align: right;\">\n",
       "      <th></th>\n",
       "      <th>day</th>\n",
       "      <th>positive</th>\n",
       "      <th>neutral</th>\n",
       "      <th>negative</th>\n",
       "    </tr>\n",
       "  </thead>\n",
       "  <tbody>\n",
       "    <tr>\n",
       "      <th>0</th>\n",
       "      <td>2016-02-24</td>\n",
       "      <td>738</td>\n",
       "      <td>4624</td>\n",
       "      <td>2511</td>\n",
       "    </tr>\n",
       "    <tr>\n",
       "      <th>1</th>\n",
       "      <td>2016-02-25</td>\n",
       "      <td>1138</td>\n",
       "      <td>6670</td>\n",
       "      <td>3583</td>\n",
       "    </tr>\n",
       "    <tr>\n",
       "      <th>2</th>\n",
       "      <td>2016-02-26</td>\n",
       "      <td>952</td>\n",
       "      <td>5775</td>\n",
       "      <td>3287</td>\n",
       "    </tr>\n",
       "    <tr>\n",
       "      <th>3</th>\n",
       "      <td>2016-02-27</td>\n",
       "      <td>804</td>\n",
       "      <td>4578</td>\n",
       "      <td>2360</td>\n",
       "    </tr>\n",
       "    <tr>\n",
       "      <th>4</th>\n",
       "      <td>2016-02-28</td>\n",
       "      <td>1057</td>\n",
       "      <td>5172</td>\n",
       "      <td>2616</td>\n",
       "    </tr>\n",
       "  </tbody>\n",
       "</table>\n",
       "</div>"
      ],
      "text/plain": [
       "         day  positive  neutral  negative\n",
       "0 2016-02-24       738     4624      2511\n",
       "1 2016-02-25      1138     6670      3583\n",
       "2 2016-02-26       952     5775      3287\n",
       "3 2016-02-27       804     4578      2360\n",
       "4 2016-02-28      1057     5172      2616"
      ]
     },
     "execution_count": 5,
     "metadata": {},
     "output_type": "execute_result"
    }
   ],
   "source": [
    "results = pd.merge(posByDay, neutrByDay, on='day')\n",
    "results = pd.merge(results, negByDay, on='day')\n",
    "results.columns = ['day', 'positive', 'neutral', 'negative']\n",
    "results.head()"
   ]
  },
  {
   "cell_type": "code",
   "execution_count": 6,
   "metadata": {},
   "outputs": [
    {
     "data": {
      "text/html": [
       "<div>\n",
       "<style scoped>\n",
       "    .dataframe tbody tr th:only-of-type {\n",
       "        vertical-align: middle;\n",
       "    }\n",
       "\n",
       "    .dataframe tbody tr th {\n",
       "        vertical-align: top;\n",
       "    }\n",
       "\n",
       "    .dataframe thead th {\n",
       "        text-align: right;\n",
       "    }\n",
       "</style>\n",
       "<table border=\"1\" class=\"dataframe\">\n",
       "  <thead>\n",
       "    <tr style=\"text-align: right;\">\n",
       "      <th></th>\n",
       "      <th>day</th>\n",
       "      <th>positive</th>\n",
       "      <th>neutral</th>\n",
       "      <th>negative</th>\n",
       "      <th>diff</th>\n",
       "    </tr>\n",
       "  </thead>\n",
       "  <tbody>\n",
       "    <tr>\n",
       "      <th>0</th>\n",
       "      <td>2016-02-24</td>\n",
       "      <td>738</td>\n",
       "      <td>4624</td>\n",
       "      <td>2511</td>\n",
       "      <td>-0.225200</td>\n",
       "    </tr>\n",
       "    <tr>\n",
       "      <th>1</th>\n",
       "      <td>2016-02-25</td>\n",
       "      <td>1138</td>\n",
       "      <td>6670</td>\n",
       "      <td>3583</td>\n",
       "      <td>-0.214643</td>\n",
       "    </tr>\n",
       "    <tr>\n",
       "      <th>2</th>\n",
       "      <td>2016-02-26</td>\n",
       "      <td>952</td>\n",
       "      <td>5775</td>\n",
       "      <td>3287</td>\n",
       "      <td>-0.233174</td>\n",
       "    </tr>\n",
       "    <tr>\n",
       "      <th>3</th>\n",
       "      <td>2016-02-27</td>\n",
       "      <td>804</td>\n",
       "      <td>4578</td>\n",
       "      <td>2360</td>\n",
       "      <td>-0.200982</td>\n",
       "    </tr>\n",
       "    <tr>\n",
       "      <th>4</th>\n",
       "      <td>2016-02-28</td>\n",
       "      <td>1057</td>\n",
       "      <td>5172</td>\n",
       "      <td>2616</td>\n",
       "      <td>-0.176258</td>\n",
       "    </tr>\n",
       "  </tbody>\n",
       "</table>\n",
       "</div>"
      ],
      "text/plain": [
       "         day  positive  neutral  negative      diff\n",
       "0 2016-02-24       738     4624      2511 -0.225200\n",
       "1 2016-02-25      1138     6670      3583 -0.214643\n",
       "2 2016-02-26       952     5775      3287 -0.233174\n",
       "3 2016-02-27       804     4578      2360 -0.200982\n",
       "4 2016-02-28      1057     5172      2616 -0.176258"
      ]
     },
     "execution_count": 6,
     "metadata": {},
     "output_type": "execute_result"
    }
   ],
   "source": [
    "results[\"diff\"] = (results[\"positive\"] - results[\"negative\"])/(results[\"positive\"] + results[\"neutral\"] + results[\"negative\"])\n",
    "results.head()"
   ]
  },
  {
   "cell_type": "code",
   "execution_count": 7,
   "metadata": {},
   "outputs": [
    {
     "data": {
      "text/plain": [
       "<matplotlib.axes._subplots.AxesSubplot at 0x19f14e49e10>"
      ]
     },
     "execution_count": 7,
     "metadata": {},
     "output_type": "execute_result"
    },
    {
     "data": {
      "image/png": "[encoded data removed]",
      "text/plain": [
       "<Figure size 432x288 with 1 Axes>"
      ]
     },
     "metadata": {
      "needs_background": "light"
     },
     "output_type": "display_data"
    }
   ],
   "source": [
    "results.plot(x='day', linewidth = 3, color=['g', 'gray', 'r'])"
   ]
  },
  {
   "cell_type": "code",
   "execution_count": 8,
   "metadata": {},
   "outputs": [
    {
     "data": {
      "image/png": "[encoded data removed]",
      "text/plain": [
       "<Figure size 432x288 with 1 Axes>"
      ]
     },
     "metadata": {
      "needs_background": "light"
     },
     "output_type": "display_data"
    }
   ],
   "source": [
    "results.plot.bar(x='day', stacked=True);\n",
    "plt.tick_params(\n",
    "    axis='x',          # changes apply to the x-axis\n",
    "    which='both',      # both major and minor ticks are affected\n",
    "    bottom=False,      # ticks along the bottom edge are off\n",
    "    top=False,         # ticks along the top edge are off\n",
    "    labelbottom=False) # labels along the bottom edge are off\n",
    "plt.show()"
   ]
  },
  {
   "cell_type": "code",
   "execution_count": 9,
   "metadata": {},
   "outputs": [
    {
     "data": {
      "text/html": [
       "<div>\n",
       "<style scoped>\n",
       "    .dataframe tbody tr th:only-of-type {\n",
       "        vertical-align: middle;\n",
       "    }\n",
       "\n",
       "    .dataframe tbody tr th {\n",
       "        vertical-align: top;\n",
       "    }\n",
       "\n",
       "    .dataframe thead th {\n",
       "        text-align: right;\n",
       "    }\n",
       "</style>\n",
       "<table border=\"1\" class=\"dataframe\">\n",
       "  <thead>\n",
       "    <tr style=\"text-align: right;\">\n",
       "      <th></th>\n",
       "      <th>day</th>\n",
       "      <th>diff</th>\n",
       "      <th>price</th>\n",
       "      <th>volume</th>\n",
       "      <th>priceDl</th>\n",
       "      <th>volumeDl</th>\n",
       "      <th>complex</th>\n",
       "    </tr>\n",
       "  </thead>\n",
       "  <tbody>\n",
       "    <tr>\n",
       "      <th>0</th>\n",
       "      <td>2016-02-24</td>\n",
       "      <td>-0.225200</td>\n",
       "      <td>5867.200195</td>\n",
       "      <td>834682500</td>\n",
       "      <td>0.860520</td>\n",
       "      <td>1.339186</td>\n",
       "      <td>(0.8605203759347815+1.339186440416907j)</td>\n",
       "    </tr>\n",
       "    <tr>\n",
       "      <th>1</th>\n",
       "      <td>2016-02-25</td>\n",
       "      <td>-0.214643</td>\n",
       "      <td>6012.799805</td>\n",
       "      <td>999956900</td>\n",
       "      <td>0.881875</td>\n",
       "      <td>1.604357</td>\n",
       "      <td>(0.881874927845236+1.6043570117755255j)</td>\n",
       "    </tr>\n",
       "    <tr>\n",
       "      <th>2</th>\n",
       "      <td>2016-02-26</td>\n",
       "      <td>-0.233174</td>\n",
       "      <td>6096.000000</td>\n",
       "      <td>858937600</td>\n",
       "      <td>0.894078</td>\n",
       "      <td>1.378102</td>\n",
       "      <td>(0.8940775902224736+1.3781019574320068j)</td>\n",
       "    </tr>\n",
       "    <tr>\n",
       "      <th>3</th>\n",
       "      <td>2016-02-29</td>\n",
       "      <td>-0.202879</td>\n",
       "      <td>6097.100098</td>\n",
       "      <td>941705500</td>\n",
       "      <td>0.894239</td>\n",
       "      <td>1.510897</td>\n",
       "      <td>(0.8942389374942663+1.5108969416107605j)</td>\n",
       "    </tr>\n",
       "    <tr>\n",
       "      <th>4</th>\n",
       "      <td>2016-03-01</td>\n",
       "      <td>-0.200386</td>\n",
       "      <td>6152.899902</td>\n",
       "      <td>933626200</td>\n",
       "      <td>0.902423</td>\n",
       "      <td>1.497934</td>\n",
       "      <td>(0.9024228866896742+1.4979343013157258j)</td>\n",
       "    </tr>\n",
       "  </tbody>\n",
       "</table>\n",
       "</div>"
      ],
      "text/plain": [
       "         day      diff        price     volume   priceDl  volumeDl  \\\n",
       "0 2016-02-24 -0.225200  5867.200195  834682500  0.860520  1.339186   \n",
       "1 2016-02-25 -0.214643  6012.799805  999956900  0.881875  1.604357   \n",
       "2 2016-02-26 -0.233174  6096.000000  858937600  0.894078  1.378102   \n",
       "3 2016-02-29 -0.202879  6097.100098  941705500  0.894239  1.510897   \n",
       "4 2016-03-01 -0.200386  6152.899902  933626200  0.902423  1.497934   \n",
       "\n",
       "                                    complex  \n",
       "0   (0.8605203759347815+1.339186440416907j)  \n",
       "1   (0.881874927845236+1.6043570117755255j)  \n",
       "2  (0.8940775902224736+1.3781019574320068j)  \n",
       "3  (0.8942389374942663+1.5108969416107605j)  \n",
       "4  (0.9024228866896742+1.4979343013157258j)  "
      ]
     },
     "execution_count": 9,
     "metadata": {},
     "output_type": "execute_result"
    }
   ],
   "source": [
    "allRes = pd.merge(results[[\"day\", \"diff\"]], ftse, on = 'day')\n",
    "allRes.head()"
   ]
  },
  {
   "cell_type": "markdown",
   "metadata": {},
   "source": [
    "## Нахождение коэффициента парной корреляции "
   ]
  },
  {
   "cell_type": "code",
   "execution_count": 10,
   "metadata": {},
   "outputs": [],
   "source": [
    "def rc(x,y):\n",
    "    rc_xy = (\n",
    "        ((y.real + 1j*y.imag)*(x.real + 1j*x.imag)).sum()\n",
    "        / \n",
    "        sqrt(((y.real + 1j*y.imag)**2).sum() * ((x.real + 1j*x.imag)**2).sum())\n",
    "        )\n",
    "    return rc_xy;"
   ]
  },
  {
   "cell_type": "code",
   "execution_count": 11,
   "metadata": {},
   "outputs": [
    {
     "data": {
      "text/plain": [
       "(-1.0765386909793453+0.05627008447027136j)"
      ]
     },
     "execution_count": 11,
     "metadata": {},
     "output_type": "execute_result"
    }
   ],
   "source": [
    "y = pd.DataFrame({\"y\":[(1+0*1j),(2+2*1j)],\n",
    "                  \"x\":[(0+1*1j),(1+2*1j)]})\n",
    "rc(y['y'], y['x'])"
   ]
  },
  {
   "cell_type": "code",
   "execution_count": 12,
   "metadata": {},
   "outputs": [
    {
     "data": {
      "text/html": [
       "<div>\n",
       "<style scoped>\n",
       "    .dataframe tbody tr th:only-of-type {\n",
       "        vertical-align: middle;\n",
       "    }\n",
       "\n",
       "    .dataframe tbody tr th {\n",
       "        vertical-align: top;\n",
       "    }\n",
       "\n",
       "    .dataframe thead th {\n",
       "        text-align: right;\n",
       "    }\n",
       "</style>\n",
       "<table border=\"1\" class=\"dataframe\">\n",
       "  <thead>\n",
       "    <tr style=\"text-align: right;\">\n",
       "      <th></th>\n",
       "      <th>date</th>\n",
       "      <th>sentimentCoef</th>\n",
       "      <th>price</th>\n",
       "      <th>volume</th>\n",
       "      <th>priceDl</th>\n",
       "      <th>volumeDl</th>\n",
       "      <th>complex</th>\n",
       "    </tr>\n",
       "  </thead>\n",
       "  <tbody>\n",
       "    <tr>\n",
       "      <th>0</th>\n",
       "      <td>2016-02-24</td>\n",
       "      <td>-0.225200</td>\n",
       "      <td>5867.200195</td>\n",
       "      <td>834682500</td>\n",
       "      <td>0.860520</td>\n",
       "      <td>1.339186</td>\n",
       "      <td>(0.8605203759347815+1.339186440416907j)</td>\n",
       "    </tr>\n",
       "    <tr>\n",
       "      <th>1</th>\n",
       "      <td>2016-02-25</td>\n",
       "      <td>-0.214643</td>\n",
       "      <td>6012.799805</td>\n",
       "      <td>999956900</td>\n",
       "      <td>0.881875</td>\n",
       "      <td>1.604357</td>\n",
       "      <td>(0.881874927845236+1.6043570117755255j)</td>\n",
       "    </tr>\n",
       "    <tr>\n",
       "      <th>2</th>\n",
       "      <td>2016-02-26</td>\n",
       "      <td>-0.233174</td>\n",
       "      <td>6096.000000</td>\n",
       "      <td>858937600</td>\n",
       "      <td>0.894078</td>\n",
       "      <td>1.378102</td>\n",
       "      <td>(0.8940775902224736+1.3781019574320068j)</td>\n",
       "    </tr>\n",
       "    <tr>\n",
       "      <th>3</th>\n",
       "      <td>2016-02-29</td>\n",
       "      <td>-0.202879</td>\n",
       "      <td>6097.100098</td>\n",
       "      <td>941705500</td>\n",
       "      <td>0.894239</td>\n",
       "      <td>1.510897</td>\n",
       "      <td>(0.8942389374942663+1.5108969416107605j)</td>\n",
       "    </tr>\n",
       "    <tr>\n",
       "      <th>4</th>\n",
       "      <td>2016-03-01</td>\n",
       "      <td>-0.200386</td>\n",
       "      <td>6152.899902</td>\n",
       "      <td>933626200</td>\n",
       "      <td>0.902423</td>\n",
       "      <td>1.497934</td>\n",
       "      <td>(0.9024228866896742+1.4979343013157258j)</td>\n",
       "    </tr>\n",
       "  </tbody>\n",
       "</table>\n",
       "</div>"
      ],
      "text/plain": [
       "        date  sentimentCoef        price     volume   priceDl  volumeDl  \\\n",
       "0 2016-02-24      -0.225200  5867.200195  834682500  0.860520  1.339186   \n",
       "1 2016-02-25      -0.214643  6012.799805  999956900  0.881875  1.604357   \n",
       "2 2016-02-26      -0.233174  6096.000000  858937600  0.894078  1.378102   \n",
       "3 2016-02-29      -0.202879  6097.100098  941705500  0.894239  1.510897   \n",
       "4 2016-03-01      -0.200386  6152.899902  933626200  0.902423  1.497934   \n",
       "\n",
       "                                    complex  \n",
       "0   (0.8605203759347815+1.339186440416907j)  \n",
       "1   (0.881874927845236+1.6043570117755255j)  \n",
       "2  (0.8940775902224736+1.3781019574320068j)  \n",
       "3  (0.8942389374942663+1.5108969416107605j)  \n",
       "4  (0.9024228866896742+1.4979343013157258j)  "
      ]
     },
     "execution_count": 12,
     "metadata": {},
     "output_type": "execute_result"
    }
   ],
   "source": [
    "allRes.columns = ['date', 'sentimentCoef', 'price', 'volume', 'priceDl', 'volumeDl', 'complex']\n",
    "allRes = allRes.sort_values(by = 'date')\n",
    "allRes.head()"
   ]
  },
  {
   "cell_type": "code",
   "execution_count": 13,
   "metadata": {},
   "outputs": [
    {
     "name": "stdout",
     "output_type": "stream",
     "text": [
      "rc volume-volume:      (0.9999999999999999+0j)\n",
      "rc volume-price:       (0.9836986116872817+0j)\n",
      "rc price-volume*1000:  (0.9836986116872819+0j)\n"
     ]
    }
   ],
   "source": [
    "print('rc volume-volume:      ' + str(rc(allRes['volumeDl'],\n",
    "                                    allRes['volumeDl'])))\n",
    "\n",
    "print('rc volume-price:       ' + str(rc(allRes['volumeDl'],\n",
    "                                    allRes['priceDl'])))\n",
    "\n",
    "print('rc price-volume*1000:  ' + str(rc(allRes['priceDl'],\n",
    "                                    allRes['volumeDl']*1000)))"
   ]
  },
  {
   "cell_type": "code",
   "execution_count": 14,
   "metadata": {},
   "outputs": [
    {
     "data": {
      "text/plain": [
       "-0.16719534079322415"
      ]
     },
     "execution_count": 14,
     "metadata": {},
     "output_type": "execute_result"
    }
   ],
   "source": [
    "#Стандартная функция для нахождения корреляции\n",
    "np.corrcoef(allRes['volume'], allRes['price'])[0][1]"
   ]
  },
  {
   "cell_type": "code",
   "execution_count": 15,
   "metadata": {},
   "outputs": [
    {
     "data": {
      "text/html": [
       "<div>\n",
       "<style scoped>\n",
       "    .dataframe tbody tr th:only-of-type {\n",
       "        vertical-align: middle;\n",
       "    }\n",
       "\n",
       "    .dataframe tbody tr th {\n",
       "        vertical-align: top;\n",
       "    }\n",
       "\n",
       "    .dataframe thead th {\n",
       "        text-align: right;\n",
       "    }\n",
       "</style>\n",
       "<table border=\"1\" class=\"dataframe\">\n",
       "  <thead>\n",
       "    <tr style=\"text-align: right;\">\n",
       "      <th></th>\n",
       "      <th>shift</th>\n",
       "      <th>rc</th>\n",
       "    </tr>\n",
       "  </thead>\n",
       "  <tbody>\n",
       "    <tr>\n",
       "      <th>0</th>\n",
       "      <td>-10</td>\n",
       "      <td>(-0.9952603150571695+0j)</td>\n",
       "    </tr>\n",
       "    <tr>\n",
       "      <th>1</th>\n",
       "      <td>-9</td>\n",
       "      <td>(-0.9950888878480905+0j)</td>\n",
       "    </tr>\n",
       "    <tr>\n",
       "      <th>2</th>\n",
       "      <td>-8</td>\n",
       "      <td>(-0.9951597090487229+0j)</td>\n",
       "    </tr>\n",
       "    <tr>\n",
       "      <th>3</th>\n",
       "      <td>-7</td>\n",
       "      <td>(-0.9950039565903769+0j)</td>\n",
       "    </tr>\n",
       "    <tr>\n",
       "      <th>4</th>\n",
       "      <td>-6</td>\n",
       "      <td>(-0.9961630098564849+0j)</td>\n",
       "    </tr>\n",
       "    <tr>\n",
       "      <th>5</th>\n",
       "      <td>-5</td>\n",
       "      <td>(-0.9984038006967088+0j)</td>\n",
       "    </tr>\n",
       "    <tr>\n",
       "      <th>6</th>\n",
       "      <td>-4</td>\n",
       "      <td>(-0.9984503832063677+0j)</td>\n",
       "    </tr>\n",
       "    <tr>\n",
       "      <th>7</th>\n",
       "      <td>-3</td>\n",
       "      <td>(-0.999395860812226+0j)</td>\n",
       "    </tr>\n",
       "    <tr>\n",
       "      <th>8</th>\n",
       "      <td>-2</td>\n",
       "      <td>(-0.9997099186240782+0j)</td>\n",
       "    </tr>\n",
       "    <tr>\n",
       "      <th>9</th>\n",
       "      <td>-1</td>\n",
       "      <td>(-1+0j)</td>\n",
       "    </tr>\n",
       "    <tr>\n",
       "      <th>10</th>\n",
       "      <td>0</td>\n",
       "      <td>(-0.9861318765475278+0j)</td>\n",
       "    </tr>\n",
       "    <tr>\n",
       "      <th>11</th>\n",
       "      <td>1</td>\n",
       "      <td>(-0.9858097924614045+0j)</td>\n",
       "    </tr>\n",
       "    <tr>\n",
       "      <th>12</th>\n",
       "      <td>2</td>\n",
       "      <td>(-0.9852284675081173+0j)</td>\n",
       "    </tr>\n",
       "    <tr>\n",
       "      <th>13</th>\n",
       "      <td>3</td>\n",
       "      <td>(-0.9850250779253159+0j)</td>\n",
       "    </tr>\n",
       "    <tr>\n",
       "      <th>14</th>\n",
       "      <td>4</td>\n",
       "      <td>(-0.9844619192755313+0j)</td>\n",
       "    </tr>\n",
       "    <tr>\n",
       "      <th>15</th>\n",
       "      <td>5</td>\n",
       "      <td>(-0.9841393676248098+0j)</td>\n",
       "    </tr>\n",
       "    <tr>\n",
       "      <th>16</th>\n",
       "      <td>6</td>\n",
       "      <td>(-0.9844014072194907+0j)</td>\n",
       "    </tr>\n",
       "    <tr>\n",
       "      <th>17</th>\n",
       "      <td>7</td>\n",
       "      <td>(-0.9843765539140382+0j)</td>\n",
       "    </tr>\n",
       "    <tr>\n",
       "      <th>18</th>\n",
       "      <td>8</td>\n",
       "      <td>(-0.9841335127954421+0j)</td>\n",
       "    </tr>\n",
       "    <tr>\n",
       "      <th>19</th>\n",
       "      <td>9</td>\n",
       "      <td>(-0.9830513649048047+0j)</td>\n",
       "    </tr>\n",
       "    <tr>\n",
       "      <th>20</th>\n",
       "      <td>10</td>\n",
       "      <td>(-0.9825159024381845+0j)</td>\n",
       "    </tr>\n",
       "  </tbody>\n",
       "</table>\n",
       "</div>"
      ],
      "text/plain": [
       "   shift                        rc\n",
       "0    -10  (-0.9952603150571695+0j)\n",
       "1     -9  (-0.9950888878480905+0j)\n",
       "2     -8  (-0.9951597090487229+0j)\n",
       "3     -7  (-0.9950039565903769+0j)\n",
       "4     -6  (-0.9961630098564849+0j)\n",
       "5     -5  (-0.9984038006967088+0j)\n",
       "6     -4  (-0.9984503832063677+0j)\n",
       "7     -3   (-0.999395860812226+0j)\n",
       "8     -2  (-0.9997099186240782+0j)\n",
       "9     -1                   (-1+0j)\n",
       "10     0  (-0.9861318765475278+0j)\n",
       "11     1  (-0.9858097924614045+0j)\n",
       "12     2  (-0.9852284675081173+0j)\n",
       "13     3  (-0.9850250779253159+0j)\n",
       "14     4  (-0.9844619192755313+0j)\n",
       "15     5  (-0.9841393676248098+0j)\n",
       "16     6  (-0.9844014072194907+0j)\n",
       "17     7  (-0.9843765539140382+0j)\n",
       "18     8  (-0.9841335127954421+0j)\n",
       "19     9  (-0.9830513649048047+0j)\n",
       "20    10  (-0.9825159024381845+0j)"
      ]
     },
     "execution_count": 15,
     "metadata": {},
     "output_type": "execute_result"
    }
   ],
   "source": [
    "startShift = -10\n",
    "endShift = 10\n",
    "rcdf = pd.DataFrame(columns=('shift', 'rc'))\n",
    "\n",
    "for i in range(startShift, endShift+1):\n",
    "    if (i < 0):\n",
    "        row = pd.DataFrame({\"shift\":[i], \n",
    "                            \"rc\": [rc(allRes['sentimentCoef'].iloc[:-i],\n",
    "                                  allRes['priceDl'].shift(i).iloc[:-i])]})\n",
    "    elif (i == 0):\n",
    "        row = pd.DataFrame({\"shift\":[i], \n",
    "                            \"rc\": [rc(allRes['sentimentCoef'],\n",
    "                                  allRes['priceDl'])]})\n",
    "    else:    \n",
    "        row = pd.DataFrame({\"shift\":[i], \n",
    "                        \"rc\": [rc(allRes['sentimentCoef'].iloc[i:],\n",
    "                                  allRes['priceDl'].shift(i).iloc[i:])]})\n",
    "\n",
    "    rcdf = rcdf.append(row, ignore_index=True)\n",
    "    \n",
    "rcdf"
   ]
  },
  {
   "cell_type": "markdown",
   "metadata": {},
   "source": [
    "## Нормирование результатов"
   ]
  },
  {
   "cell_type": "code",
   "execution_count": 16,
   "metadata": {},
   "outputs": [],
   "source": [
    "allRes[\"sentimentCoefNorm\"] = (allRes[\"sentimentCoef\"] - allRes[\"sentimentCoef\"].min()) / (allRes[\"sentimentCoef\"].max() - allRes[\"sentimentCoef\"].min())\n",
    "allRes[\"priceNorm\"] = (allRes[\"price\"] - allRes[\"price\"].min()) / (allRes[\"price\"].max() - allRes[\"price\"].min())\n",
    "allRes[\"volumeNorm\"] = (allRes[\"volume\"] - allRes[\"volume\"].min()) / (allRes[\"volume\"].max() - allRes[\"volume\"].min())"
   ]
  },
  {
   "cell_type": "code",
   "execution_count": 17,
   "metadata": {},
   "outputs": [
    {
     "data": {
      "text/plain": [
       "-0.1671953407932242"
      ]
     },
     "execution_count": 17,
     "metadata": {},
     "output_type": "execute_result"
    }
   ],
   "source": [
    "#Стандартная функция для нахождения корреляции\n",
    "np.corrcoef(allRes['volumeNorm'], allRes['priceNorm'])[0][1]"
   ]
  },
  {
   "cell_type": "code",
   "execution_count": 18,
   "metadata": {},
   "outputs": [
    {
     "name": "stdout",
     "output_type": "stream",
     "text": [
      "rc volumeNorm-priceNorm: (0.8042252254874648+0j)\n"
     ]
    }
   ],
   "source": [
    "print('rc volumeNorm-priceNorm: ' + str(rc(allRes['volumeNorm'],\n",
    "                                           allRes['priceNorm'])))"
   ]
  },
  {
   "cell_type": "code",
   "execution_count": 19,
   "metadata": {
    "scrolled": false
   },
   "outputs": [
    {
     "data": {
      "text/plain": [
       "<matplotlib.axes._subplots.AxesSubplot at 0x19f14e5eba8>"
      ]
     },
     "execution_count": 19,
     "metadata": {},
     "output_type": "execute_result"
    },
    {
     "data": {
      "image/png": "[encoded data removed]",
      "text/plain": [
       "<Figure size 432x288 with 1 Axes>"
      ]
     },
     "metadata": {
      "needs_background": "light"
     },
     "output_type": "display_data"
    }
   ],
   "source": [
    "allRes[['date', 'sentimentCoefNorm', 'priceNorm', 'volumeNorm']].plot(x='date', linewidth = 2, color = ['r', 'steelblue', 'slateblue'])"
   ]
  }
 ],
 "metadata": {
  "kernelspec": {
   "display_name": "Python 3",
   "language": "python",
   "name": "python3"
  },
  "language_info": {
   "codemirror_mode": {
    "name": "ipython",
    "version": 3
   },
   "file_extension": ".py",
   "mimetype": "text/x-python",
   "name": "python",
   "nbconvert_exporter": "python",
   "pygments_lexer": "ipython3",
   "version": "3.7.1"
  }
 },
 "nbformat": 4,
 "nbformat_minor": 2
}
