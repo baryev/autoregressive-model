{
 "cells": [
  {
   "cell_type": "code",
   "execution_count": 1,
   "metadata": {},
   "outputs": [],
   "source": [
    "import pandas as pd\n",
    "import numpy as np\n",
    "from cmath import *\n",
    "\n",
    "from utils import *"
   ]
  },
  {
   "cell_type": "markdown",
   "metadata": {},
   "source": [
    "Модуль cmath – предоставляет функции для работы с комплексными числами.<br>\n",
    "Документация: https://docs.python.org/3.7/library/cmath.html"
   ]
  },
  {
   "cell_type": "code",
   "execution_count": 2,
   "metadata": {},
   "outputs": [
    {
     "name": "stdout",
     "output_type": "stream",
     "text": [
      "(-0.75+7j)\n",
      "1.6775319994440323\n",
      "(7.0400639201643616, 1.6775319994440323)\n",
      "(1.2421277463999345+5.2860210614055845j)\n"
     ]
    }
   ],
   "source": [
    "#Примеры работы с комплексными числами в Python и библиотекой cmath в частности.\n",
    "c1 = (1.25 - 2j)\n",
    "c2 = (5.3j)\n",
    "c3 = (2 - 1.7j)\n",
    "d = c1.real + c2.imag*1j - c3\n",
    "print(d)\n",
    "\n",
    "#Возвращает фазовый угол φ для числа x. Результат лежит в интервале [-π, π].\n",
    "print(phase(d))\n",
    "\n",
    "#Возвращает представление x в полярных координатах, то есть возвращает пару (r, phi).\n",
    "print(polar(d))\n",
    "\n",
    "#Возвращает обычное комплексное представление x из представления в полярных координатах.\n",
    "print(rect(5.43, 1.34))"
   ]
  },
  {
   "cell_type": "code",
   "execution_count": 3,
   "metadata": {},
   "outputs": [
    {
     "name": "stdout",
     "output_type": "stream",
     "text": [
      "0     (-2.228970390166291-0.03968807052307383j)\n",
      "1     (-1.4741129125867294-1.1431310777801285j)\n",
      "2     (-1.0473070582528201-0.2936162245672585j)\n",
      "3     (-0.4585967206469793+0.9198241003045683j)\n",
      "4    (0.47574138141938926+0.02706389937060014j)\n",
      "dtype: complex128\n",
      "0      (0.4561222568954728-0.5428998185243188j)\n",
      "1         (1.165710341399407+0.57224301444283j)\n",
      "2    (-0.01668530615499612-0.7031070683617783j)\n",
      "3     (1.1410883644152643+0.31193449759417824j)\n",
      "4      (0.7901725569334165+0.1699543039661878j)\n",
      "dtype: complex128\n"
     ]
    }
   ],
   "source": [
    "# Количество генерируемых значений\n",
    "n = 1000000\n",
    "\n",
    "# Генерация нормально-распределенных комплексных значений. μ -> loc; σ -> scale\n",
    "x = pd.Series(np.random.normal(loc = 0, scale = 1, size = n) \n",
    "         + 1j*np.random.normal(loc = 0, scale = 1, size = n))\n",
    "\n",
    "y = pd.Series(np.random.normal(loc = 0, scale = 1, size = n) \n",
    "         + 1j*np.random.normal(loc = 0, scale = 1, size = n))\n",
    "\n",
    "print(x.head())\n",
    "print(y.head())"
   ]
  },
  {
   "cell_type": "code",
   "execution_count": 4,
   "metadata": {},
   "outputs": [
    {
     "data": {
      "text/plain": [
       "(0.0009161743479285418+9.967011488092296e-05j)"
      ]
     },
     "execution_count": 4,
     "metadata": {},
     "output_type": "execute_result"
    }
   ],
   "source": [
    "# Расчет комплексного коэффициента пропорциональности (4.2.11)\n",
    "# Эта и следующие функции реализованы в файле в utils.py\n",
    "b(x,y)"
   ]
  },
  {
   "cell_type": "code",
   "execution_count": 5,
   "metadata": {},
   "outputs": [
    {
     "data": {
      "text/plain": [
       "(4.754000281857496e-10-4.7197580444981973e-11j)"
      ]
     },
     "execution_count": 5,
     "metadata": {},
     "output_type": "execute_result"
    }
   ],
   "source": [
    "# Расчет выборочного значения коэффициента корреляции двух комплексных случайных величин (4.3.6)\n",
    "r(x,y)"
   ]
  }
 ],
 "metadata": {
  "kernelspec": {
   "display_name": "Python 3",
   "language": "python",
   "name": "python3"
  },
  "language_info": {
   "codemirror_mode": {
    "name": "ipython",
    "version": 3
   },
   "file_extension": ".py",
   "mimetype": "text/x-python",
   "name": "python",
   "nbconvert_exporter": "python",
   "pygments_lexer": "ipython3",
   "version": "3.7.1"
  }
 },
 "nbformat": 4,
 "nbformat_minor": 2
}
